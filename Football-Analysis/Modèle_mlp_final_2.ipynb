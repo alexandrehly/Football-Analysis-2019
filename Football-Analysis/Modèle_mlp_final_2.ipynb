{
 "cells": [
  {
   "cell_type": "markdown",
   "metadata": {},
   "source": [
    "# Création de Modèles - MLP"
   ]
  },
  {
   "cell_type": "markdown",
   "metadata": {},
   "source": [
    "Groupe 10 : Aleandre Ly, Ismail Naziz, Paul Paquin, Charlène Petit"
   ]
  },
  {
   "cell_type": "markdown",
   "metadata": {},
   "source": [
    "*Ce Notebook a pour but de mettre en place des premiers modèles pour aider à la classification binaire des joueurs pour un cluster de club (1 = recommandé, 0 = non recommandé)* \n",
    "- Ce Notebook produit un modèle et renvoit une liste de 0 et de 1\n",
    "- Ce Notebook prend en entrée la table concaténée de Performance/Désirabilité/Transferts"
   ]
  },
  {
   "cell_type": "markdown",
   "metadata": {},
   "source": [
    "# Imports"
   ]
  },
  {
   "cell_type": "code",
   "execution_count": 9,
   "metadata": {},
   "outputs": [],
   "source": [
    "import pandas as pd\n",
    "import numpy as np\n",
    "import matplotlib.pyplot as plt\n",
    "\n",
    "from sklearn.neural_network import MLPClassifier\n",
    "from sklearn.model_selection import train_test_split\n",
    "from sklearn.preprocessing import StandardScaler\n",
    "from sklearn.model_selection import GridSearchCV\n",
    "from sklearn.metrics import confusion_matrix\n",
    "from sklearn.neural_network import MLPRegressor\n",
    "from sklearn.metrics import classification_report"
   ]
  },
  {
   "cell_type": "markdown",
   "metadata": {},
   "source": [
    "# I - Preparation des données"
   ]
  },
  {
   "cell_type": "code",
   "execution_count": null,
   "metadata": {},
   "outputs": [],
   "source": [
    "def clean_dataset(df):\n",
    "    assert isinstance(df, pd.DataFrame), \"df needs to be a pd.DataFrame\"\n",
    "    df.dropna(inplace=True)\n",
    "    indices_to_keep = ~df.isin([np.nan, np.inf, -np.inf]).any(1)\n",
    "    return df[indices_to_keep].astype(np.float64)"
   ]
  },
  {
   "cell_type": "code",
   "execution_count": 11,
   "metadata": {},
   "outputs": [
    {
     "data": {
      "text/html": [
       "<div>\n",
       "<style scoped>\n",
       "    .dataframe tbody tr th:only-of-type {\n",
       "        vertical-align: middle;\n",
       "    }\n",
       "\n",
       "    .dataframe tbody tr th {\n",
       "        vertical-align: top;\n",
       "    }\n",
       "\n",
       "    .dataframe thead th {\n",
       "        text-align: right;\n",
       "    }\n",
       "</style>\n",
       "<table border=\"1\" class=\"dataframe\">\n",
       "  <thead>\n",
       "    <tr style=\"text-align: right;\">\n",
       "      <th></th>\n",
       "      <th>Unnamed: 0</th>\n",
       "      <th>Equipe</th>\n",
       "      <th>Age</th>\n",
       "      <th>Position 1</th>\n",
       "      <th>VM</th>\n",
       "      <th>000</th>\n",
       "      <th>100</th>\n",
       "      <th>101</th>\n",
       "      <th>110</th>\n",
       "      <th>111</th>\n",
       "      <th>...</th>\n",
       "      <th>Allant à</th>\n",
       "      <th>Name</th>\n",
       "      <th>label 000</th>\n",
       "      <th>label 100</th>\n",
       "      <th>label 101</th>\n",
       "      <th>label 110</th>\n",
       "      <th>label 111</th>\n",
       "      <th>label 001</th>\n",
       "      <th>label 010</th>\n",
       "      <th>label 011</th>\n",
       "    </tr>\n",
       "  </thead>\n",
       "  <tbody>\n",
       "    <tr>\n",
       "      <td>0</td>\n",
       "      <td>0</td>\n",
       "      <td>AC Milan</td>\n",
       "      <td>0.130435</td>\n",
       "      <td>MFC</td>\n",
       "      <td>50000.0</td>\n",
       "      <td>52.084574</td>\n",
       "      <td>74.205775</td>\n",
       "      <td>79.831912</td>\n",
       "      <td>34.502522</td>\n",
       "      <td>47.871807</td>\n",
       "      <td>...</td>\n",
       "      <td>NaN</td>\n",
       "      <td>Emanuele Torrasi</td>\n",
       "      <td>1</td>\n",
       "      <td>1</td>\n",
       "      <td>1</td>\n",
       "      <td>1</td>\n",
       "      <td>1</td>\n",
       "      <td>1</td>\n",
       "      <td>1</td>\n",
       "      <td>0</td>\n",
       "    </tr>\n",
       "    <tr>\n",
       "      <td>1</td>\n",
       "      <td>1</td>\n",
       "      <td>AC Milan</td>\n",
       "      <td>0.695652</td>\n",
       "      <td>DMC</td>\n",
       "      <td>20000000.0</td>\n",
       "      <td>42.652218</td>\n",
       "      <td>69.217421</td>\n",
       "      <td>77.207300</td>\n",
       "      <td>41.365161</td>\n",
       "      <td>57.378609</td>\n",
       "      <td>...</td>\n",
       "      <td>NaN</td>\n",
       "      <td>Lucas Biglia</td>\n",
       "      <td>0</td>\n",
       "      <td>0</td>\n",
       "      <td>0</td>\n",
       "      <td>1</td>\n",
       "      <td>0</td>\n",
       "      <td>0</td>\n",
       "      <td>1</td>\n",
       "      <td>1</td>\n",
       "    </tr>\n",
       "    <tr>\n",
       "      <td>2</td>\n",
       "      <td>2</td>\n",
       "      <td>AC Milan</td>\n",
       "      <td>0.652174</td>\n",
       "      <td>DC</td>\n",
       "      <td>45000000.0</td>\n",
       "      <td>48.898795</td>\n",
       "      <td>72.647890</td>\n",
       "      <td>51.033987</td>\n",
       "      <td>61.623865</td>\n",
       "      <td>51.214983</td>\n",
       "      <td>...</td>\n",
       "      <td>Juventus</td>\n",
       "      <td>Leonardo Bonucci</td>\n",
       "      <td>0</td>\n",
       "      <td>0</td>\n",
       "      <td>0</td>\n",
       "      <td>0</td>\n",
       "      <td>0</td>\n",
       "      <td>0</td>\n",
       "      <td>0</td>\n",
       "      <td>0</td>\n",
       "    </tr>\n",
       "    <tr>\n",
       "      <td>3</td>\n",
       "      <td>3</td>\n",
       "      <td>AC Milan</td>\n",
       "      <td>0.739130</td>\n",
       "      <td>MFC</td>\n",
       "      <td>3500000.0</td>\n",
       "      <td>36.464490</td>\n",
       "      <td>65.846273</td>\n",
       "      <td>75.466815</td>\n",
       "      <td>45.787305</td>\n",
       "      <td>63.513518</td>\n",
       "      <td>...</td>\n",
       "      <td>NaN</td>\n",
       "      <td>Riccardo Montolivo</td>\n",
       "      <td>1</td>\n",
       "      <td>1</td>\n",
       "      <td>1</td>\n",
       "      <td>0</td>\n",
       "      <td>1</td>\n",
       "      <td>1</td>\n",
       "      <td>1</td>\n",
       "      <td>0</td>\n",
       "    </tr>\n",
       "    <tr>\n",
       "      <td>4</td>\n",
       "      <td>4</td>\n",
       "      <td>AC Milan</td>\n",
       "      <td>0.608696</td>\n",
       "      <td>FW</td>\n",
       "      <td>20000000.0</td>\n",
       "      <td>54.799202</td>\n",
       "      <td>37.184064</td>\n",
       "      <td>45.191345</td>\n",
       "      <td>32.594654</td>\n",
       "      <td>45.220277</td>\n",
       "      <td>...</td>\n",
       "      <td>Atletico Madrid</td>\n",
       "      <td>Nikola Kalinic</td>\n",
       "      <td>0</td>\n",
       "      <td>1</td>\n",
       "      <td>1</td>\n",
       "      <td>0</td>\n",
       "      <td>0</td>\n",
       "      <td>0</td>\n",
       "      <td>0</td>\n",
       "      <td>1</td>\n",
       "    </tr>\n",
       "    <tr>\n",
       "      <td>...</td>\n",
       "      <td>...</td>\n",
       "      <td>...</td>\n",
       "      <td>...</td>\n",
       "      <td>...</td>\n",
       "      <td>...</td>\n",
       "      <td>...</td>\n",
       "      <td>...</td>\n",
       "      <td>...</td>\n",
       "      <td>...</td>\n",
       "      <td>...</td>\n",
       "      <td>...</td>\n",
       "      <td>...</td>\n",
       "      <td>...</td>\n",
       "      <td>...</td>\n",
       "      <td>...</td>\n",
       "      <td>...</td>\n",
       "      <td>...</td>\n",
       "      <td>...</td>\n",
       "      <td>...</td>\n",
       "      <td>...</td>\n",
       "      <td>...</td>\n",
       "    </tr>\n",
       "    <tr>\n",
       "      <td>2069</td>\n",
       "      <td>2069</td>\n",
       "      <td>Wolfsburg</td>\n",
       "      <td>0.434783</td>\n",
       "      <td>MFLR</td>\n",
       "      <td>3000000.0</td>\n",
       "      <td>78.975066</td>\n",
       "      <td>45.916795</td>\n",
       "      <td>21.079088</td>\n",
       "      <td>15.100778</td>\n",
       "      <td>20.977107</td>\n",
       "      <td>...</td>\n",
       "      <td>NaN</td>\n",
       "      <td>Renato Steffen</td>\n",
       "      <td>0</td>\n",
       "      <td>0</td>\n",
       "      <td>0</td>\n",
       "      <td>0</td>\n",
       "      <td>0</td>\n",
       "      <td>0</td>\n",
       "      <td>0</td>\n",
       "      <td>0</td>\n",
       "    </tr>\n",
       "    <tr>\n",
       "      <td>2070</td>\n",
       "      <td>2070</td>\n",
       "      <td>Wolfsburg</td>\n",
       "      <td>0.391304</td>\n",
       "      <td>AMC</td>\n",
       "      <td>10000000.0</td>\n",
       "      <td>85.109562</td>\n",
       "      <td>12.317767</td>\n",
       "      <td>14.933080</td>\n",
       "      <td>10.690819</td>\n",
       "      <td>14.861740</td>\n",
       "      <td>...</td>\n",
       "      <td>NaN</td>\n",
       "      <td>Yunus Malli</td>\n",
       "      <td>0</td>\n",
       "      <td>0</td>\n",
       "      <td>0</td>\n",
       "      <td>0</td>\n",
       "      <td>0</td>\n",
       "      <td>0</td>\n",
       "      <td>0</td>\n",
       "      <td>0</td>\n",
       "    </tr>\n",
       "    <tr>\n",
       "      <td>2071</td>\n",
       "      <td>2071</td>\n",
       "      <td>Wolfsburg</td>\n",
       "      <td>0.391304</td>\n",
       "      <td>DC</td>\n",
       "      <td>10000000.0</td>\n",
       "      <td>85.109562</td>\n",
       "      <td>91.936676</td>\n",
       "      <td>14.933080</td>\n",
       "      <td>88.880488</td>\n",
       "      <td>14.861740</td>\n",
       "      <td>...</td>\n",
       "      <td>Schalke 04</td>\n",
       "      <td>Jeffrey Bruma</td>\n",
       "      <td>0</td>\n",
       "      <td>0</td>\n",
       "      <td>0</td>\n",
       "      <td>0</td>\n",
       "      <td>0</td>\n",
       "      <td>0</td>\n",
       "      <td>0</td>\n",
       "      <td>0</td>\n",
       "    </tr>\n",
       "    <tr>\n",
       "      <td>2072</td>\n",
       "      <td>2072</td>\n",
       "      <td>Wolfsburg</td>\n",
       "      <td>0.173913</td>\n",
       "      <td>FW</td>\n",
       "      <td>6500000.0</td>\n",
       "      <td>67.678026</td>\n",
       "      <td>26.663463</td>\n",
       "      <td>32.353602</td>\n",
       "      <td>23.261377</td>\n",
       "      <td>32.286694</td>\n",
       "      <td>...</td>\n",
       "      <td>NaN</td>\n",
       "      <td>Landry Dimata</td>\n",
       "      <td>0</td>\n",
       "      <td>0</td>\n",
       "      <td>0</td>\n",
       "      <td>0</td>\n",
       "      <td>0</td>\n",
       "      <td>0</td>\n",
       "      <td>0</td>\n",
       "      <td>0</td>\n",
       "    </tr>\n",
       "    <tr>\n",
       "      <td>2073</td>\n",
       "      <td>2073</td>\n",
       "      <td>Wolfsburg</td>\n",
       "      <td>0.217391</td>\n",
       "      <td>DMC</td>\n",
       "      <td>10000000.0</td>\n",
       "      <td>83.251055</td>\n",
       "      <td>90.946618</td>\n",
       "      <td>88.554012</td>\n",
       "      <td>12.026828</td>\n",
       "      <td>16.711546</td>\n",
       "      <td>...</td>\n",
       "      <td>NaN</td>\n",
       "      <td>Riechedly Bazoer</td>\n",
       "      <td>0</td>\n",
       "      <td>0</td>\n",
       "      <td>0</td>\n",
       "      <td>0</td>\n",
       "      <td>0</td>\n",
       "      <td>0</td>\n",
       "      <td>0</td>\n",
       "      <td>0</td>\n",
       "    </tr>\n",
       "  </tbody>\n",
       "</table>\n",
       "<p>1966 rows × 26 columns</p>\n",
       "</div>"
      ],
      "text/plain": [
       "      Unnamed: 0     Equipe       Age Position 1          VM        000  \\\n",
       "0              0   AC Milan  0.130435        MFC     50000.0  52.084574   \n",
       "1              1   AC Milan  0.695652        DMC  20000000.0  42.652218   \n",
       "2              2   AC Milan  0.652174         DC  45000000.0  48.898795   \n",
       "3              3   AC Milan  0.739130        MFC   3500000.0  36.464490   \n",
       "4              4   AC Milan  0.608696         FW  20000000.0  54.799202   \n",
       "...          ...        ...       ...        ...         ...        ...   \n",
       "2069        2069  Wolfsburg  0.434783       MFLR   3000000.0  78.975066   \n",
       "2070        2070  Wolfsburg  0.391304        AMC  10000000.0  85.109562   \n",
       "2071        2071  Wolfsburg  0.391304         DC  10000000.0  85.109562   \n",
       "2072        2072  Wolfsburg  0.173913         FW   6500000.0  67.678026   \n",
       "2073        2073  Wolfsburg  0.217391        DMC  10000000.0  83.251055   \n",
       "\n",
       "            100        101        110        111  ...         Allant à  \\\n",
       "0     74.205775  79.831912  34.502522  47.871807  ...              NaN   \n",
       "1     69.217421  77.207300  41.365161  57.378609  ...              NaN   \n",
       "2     72.647890  51.033987  61.623865  51.214983  ...         Juventus   \n",
       "3     65.846273  75.466815  45.787305  63.513518  ...              NaN   \n",
       "4     37.184064  45.191345  32.594654  45.220277  ...  Atletico Madrid   \n",
       "...         ...        ...        ...        ...  ...              ...   \n",
       "2069  45.916795  21.079088  15.100778  20.977107  ...              NaN   \n",
       "2070  12.317767  14.933080  10.690819  14.861740  ...              NaN   \n",
       "2071  91.936676  14.933080  88.880488  14.861740  ...       Schalke 04   \n",
       "2072  26.663463  32.353602  23.261377  32.286694  ...              NaN   \n",
       "2073  90.946618  88.554012  12.026828  16.711546  ...              NaN   \n",
       "\n",
       "                    Name  label 000  label 100 label 101 label 110 label 111  \\\n",
       "0       Emanuele Torrasi          1          1         1         1         1   \n",
       "1           Lucas Biglia          0          0         0         1         0   \n",
       "2       Leonardo Bonucci          0          0         0         0         0   \n",
       "3     Riccardo Montolivo          1          1         1         0         1   \n",
       "4         Nikola Kalinic          0          1         1         0         0   \n",
       "...                  ...        ...        ...       ...       ...       ...   \n",
       "2069      Renato Steffen          0          0         0         0         0   \n",
       "2070         Yunus Malli          0          0         0         0         0   \n",
       "2071       Jeffrey Bruma          0          0         0         0         0   \n",
       "2072       Landry Dimata          0          0         0         0         0   \n",
       "2073    Riechedly Bazoer          0          0         0         0         0   \n",
       "\n",
       "     label 001  label 010  label 011  \n",
       "0            1          1          0  \n",
       "1            0          1          1  \n",
       "2            0          0          0  \n",
       "3            1          1          0  \n",
       "4            0          0          1  \n",
       "...        ...        ...        ...  \n",
       "2069         0          0          0  \n",
       "2070         0          0          0  \n",
       "2071         0          0          0  \n",
       "2072         0          0          0  \n",
       "2073         0          0          0  \n",
       "\n",
       "[1966 rows x 26 columns]"
      ]
     },
     "execution_count": 11,
     "metadata": {},
     "output_type": "execute_result"
    }
   ],
   "source": [
    "df= pd.read_csv('Labelised_special_17_18.csv')\n",
    "df=df[df['Performance']<=60]\n",
    "df=df[df['Performance']>=10]\n",
    "df"
   ]
  },
  {
   "cell_type": "code",
   "execution_count": 22,
   "metadata": {},
   "outputs": [
    {
     "name": "stderr",
     "output_type": "stream",
     "text": [
      "/opt/conda/lib/python3.7/site-packages/ipykernel_launcher.py:3: SettingWithCopyWarning: \n",
      "A value is trying to be set on a copy of a slice from a DataFrame\n",
      "\n",
      "See the caveats in the documentation: http://pandas.pydata.org/pandas-docs/stable/user_guide/indexing.html#returning-a-view-versus-a-copy\n",
      "  This is separate from the ipykernel package so we can avoid doing imports until\n"
     ]
    }
   ],
   "source": [
    "data=df[['100','Performance', 'label 100']]\n",
    "data=clean_dataset(data)"
   ]
  },
  {
   "cell_type": "markdown",
   "metadata": {},
   "source": [
    "# II - Représentation graphique des Métriques pour un cluster"
   ]
  },
  {
   "cell_type": "code",
   "execution_count": 23,
   "metadata": {},
   "outputs": [
    {
     "data": {
      "text/plain": [
       "<matplotlib.collections.PathCollection at 0x7f89e8a5b550>"
      ]
     },
     "execution_count": 23,
     "metadata": {},
     "output_type": "execute_result"
    },
    {
     "data": {
      "image/png": "[encoded data removed]",
      "text/plain": [
       "<Figure size 800x800 with 1 Axes>"
      ]
     },
     "metadata": {
      "needs_background": "light"
     },
     "output_type": "display_data"
    }
   ],
   "source": [
    "plt.figure(figsize=(8, 8), dpi=100)\n",
    "plt.scatter(df['000'],df['Performance'])"
   ]
  },
  {
   "cell_type": "code",
   "execution_count": 24,
   "metadata": {},
   "outputs": [],
   "source": [
    "X = data[['100','Performance']]\n",
    "y = data['label 100']\n",
    "x_train, x_test, y_train, y_test = train_test_split(X,y, test_size= 0.25, random_state=27)\n"
   ]
  },
  {
   "cell_type": "markdown",
   "metadata": {},
   "source": [
    "# III - Recherche des meilleurs paramètres pour le MLP"
   ]
  },
  {
   "cell_type": "code",
   "execution_count": 25,
   "metadata": {
    "scrolled": true
   },
   "outputs": [
    {
     "name": "stdout",
     "output_type": "stream",
     "text": [
      "Iteration 1, loss = 0.91224774\n",
      "Iteration 2, loss = 0.50462227\n",
      "Iteration 3, loss = 0.50475517\n",
      "Iteration 4, loss = 0.50205984\n",
      "Iteration 5, loss = 0.49708833\n",
      "Iteration 6, loss = 0.49778231\n",
      "Iteration 7, loss = 0.50126729\n",
      "Iteration 8, loss = 0.49903492\n",
      "Iteration 9, loss = 0.49582866\n",
      "Iteration 10, loss = 0.50269345\n",
      "Iteration 11, loss = 0.52797696\n",
      "Iteration 12, loss = 0.50262547\n",
      "Iteration 13, loss = 0.49553940\n",
      "Iteration 14, loss = 0.49534932\n",
      "Iteration 15, loss = 0.49608430\n",
      "Iteration 16, loss = 0.50406197\n",
      "Iteration 17, loss = 0.49705507\n",
      "Iteration 18, loss = 0.49578863\n",
      "Iteration 19, loss = 0.49643785\n",
      "Iteration 20, loss = 0.49945463\n",
      "Iteration 21, loss = 0.49638340\n",
      "Iteration 22, loss = 0.56325564\n",
      "Iteration 23, loss = 0.49929823\n",
      "Iteration 24, loss = 0.49996075\n",
      "Iteration 25, loss = 0.49983042\n",
      "Training loss did not improve more than tol=0.000100 for 10 consecutive epochs. Stopping.\n"
     ]
    },
    {
     "data": {
      "text/plain": [
       "0.7535641547861507"
      ]
     },
     "execution_count": 25,
     "metadata": {},
     "output_type": "execute_result"
    }
   ],
   "source": [
    "mlp = MLPClassifier(hidden_layer_sizes=(256, 256,256), max_iter=1000, alpha=1e-4,\n",
    "                    solver='sgd', verbose=10, random_state=1,batch_size=64,\n",
    "                    learning_rate_init=0.0001)\n",
    "mlp.fit(x_train, y_train)\n",
    "mlp.score(x_test,y_test)"
   ]
  },
  {
   "cell_type": "code",
   "execution_count": 26,
   "metadata": {},
   "outputs": [
    {
     "data": {
      "text/plain": [
       "array([[355,  25],\n",
       "       [ 96,  15]])"
      ]
     },
     "execution_count": 26,
     "metadata": {},
     "output_type": "execute_result"
    }
   ],
   "source": [
    "y_pred=mlp.predict(x_test)\n",
    "conf = confusion_matrix(y_test, y_pred,labels=[0, 1])\n",
    "conf\n"
   ]
  },
  {
   "cell_type": "code",
   "execution_count": 28,
   "metadata": {},
   "outputs": [
    {
     "data": {
      "text/plain": [
       "array([0., 0., 0., 0., 0., 0., 0., 0., 0., 0., 0., 0., 0., 0., 1., 0., 0.,\n",
       "       0., 0., 0., 0., 0., 0., 0., 0., 0., 0., 0., 0., 0., 0., 0., 0., 0.,\n",
       "       0., 0., 0., 0., 0., 0., 0., 0., 0., 0., 0., 0., 0., 0., 0., 0., 0.,\n",
       "       0., 0., 0., 0., 0., 0., 0., 0., 0., 0., 0., 1., 0., 0., 1., 0., 0.,\n",
       "       0., 0., 0., 0., 0., 0., 0., 0., 1., 0., 0., 0., 0., 0., 1., 1., 0.,\n",
       "       0., 0., 0., 0., 1., 0., 0., 0., 0., 1., 0., 0., 0., 0., 0., 0., 1.,\n",
       "       0., 0., 1., 0., 0., 0., 0., 0., 0., 0., 0., 0., 0., 0., 0., 0., 0.,\n",
       "       0., 1., 0., 0., 0., 0., 0., 0., 1., 1., 0., 0., 0., 0., 0., 0., 0.,\n",
       "       0., 0., 1., 0., 0., 0., 0., 0., 0., 0., 0., 0., 0., 0., 0., 0., 0.,\n",
       "       0., 0., 0., 0., 0., 1., 0., 0., 0., 0., 1., 0., 0., 0., 0., 0., 0.,\n",
       "       0., 0., 0., 0., 0., 0., 0., 0., 0., 0., 0., 1., 0., 0., 0., 0., 0.,\n",
       "       0., 0., 1., 0., 0., 0., 0., 0., 0., 0., 1., 0., 0., 0., 0., 0., 0.,\n",
       "       0., 0., 1., 0., 0., 0., 0., 0., 0., 0., 0., 0., 0., 0., 1., 0., 0.,\n",
       "       0., 0., 0., 0., 0., 0., 0., 0., 0., 0., 0., 0., 0., 0., 0., 1., 0.,\n",
       "       0., 0., 0., 0., 0., 0., 1., 0., 0., 0., 0., 0., 0., 0., 0., 0., 0.,\n",
       "       0., 1., 0., 0., 0., 0., 0., 0., 0., 0., 0., 0., 0., 0., 0., 0., 0.,\n",
       "       0., 0., 0., 0., 0., 0., 0., 0., 0., 0., 0., 0., 0., 0., 0., 0., 0.,\n",
       "       0., 0., 0., 1., 0., 0., 0., 0., 0., 0., 1., 0., 0., 0., 0., 0., 0.,\n",
       "       0., 0., 0., 0., 0., 0., 0., 0., 0., 1., 0., 0., 0., 0., 0., 0., 0.,\n",
       "       0., 0., 0., 0., 0., 0., 0., 0., 0., 0., 0., 0., 0., 0., 0., 0., 0.,\n",
       "       0., 0., 0., 0., 0., 0., 0., 0., 0., 0., 0., 0., 0., 0., 0., 0., 0.,\n",
       "       0., 0., 0., 0., 0., 1., 0., 0., 0., 0., 0., 0., 0., 0., 0., 0., 0.,\n",
       "       0., 0., 0., 0., 0., 1., 0., 0., 0., 0., 0., 0., 0., 0., 0., 0., 0.,\n",
       "       0., 0., 0., 0., 1., 0., 0., 0., 0., 0., 0., 0., 0., 0., 0., 0., 0.,\n",
       "       1., 0., 0., 1., 0., 0., 0., 0., 0., 0., 0., 0., 0., 0., 0., 0., 0.,\n",
       "       0., 0., 0., 1., 0., 0., 1., 0., 0., 0., 1., 0., 0., 0., 0., 0., 0.,\n",
       "       1., 0., 1., 0., 0., 1., 0., 0., 0., 0., 0., 0., 0., 0., 0., 0., 0.,\n",
       "       0., 0., 1., 0., 0., 0., 0., 0., 0., 1., 0., 0., 0., 0., 0., 0., 0.,\n",
       "       0., 0., 0., 0., 0., 0., 0., 0., 0., 0., 0., 0., 0., 0., 0.])"
      ]
     },
     "execution_count": 28,
     "metadata": {},
     "output_type": "execute_result"
    }
   ],
   "source": [
    "y_pred"
   ]
  },
  {
   "cell_type": "markdown",
   "metadata": {},
   "source": [
    "# Prediction sur 2018-2019"
   ]
  },
  {
   "cell_type": "code",
   "execution_count": 29,
   "metadata": {},
   "outputs": [],
   "source": [
    "data_player_18_19 = pd.read_csv(\"Final_table_special_18_19.csv\",sep=\",\", engine=\"python\",encoding = 'UTF-8')\n",
    "data_player_18_19=data_player_18_19[data_player_18_19['Performance']<=60]\n",
    "data_player_18_19=data_player_18_19[data_player_18_19['Performance']>=10]"
   ]
  },
  {
   "cell_type": "code",
   "execution_count": 30,
   "metadata": {},
   "outputs": [
    {
     "name": "stderr",
     "output_type": "stream",
     "text": [
      "/opt/conda/lib/python3.7/site-packages/ipykernel_launcher.py:3: SettingWithCopyWarning: \n",
      "A value is trying to be set on a copy of a slice from a DataFrame\n",
      "\n",
      "See the caveats in the documentation: http://pandas.pydata.org/pandas-docs/stable/user_guide/indexing.html#returning-a-view-versus-a-copy\n",
      "  This is separate from the ipykernel package so we can avoid doing imports until\n"
     ]
    }
   ],
   "source": [
    "data=data_player_18_19[['100','Performance']]\n",
    "data=clean_dataset(data)"
   ]
  },
  {
   "cell_type": "code",
   "execution_count": 31,
   "metadata": {},
   "outputs": [],
   "source": [
    "X = data[['100','Performance']]"
   ]
  },
  {
   "cell_type": "code",
   "execution_count": 34,
   "metadata": {},
   "outputs": [],
   "source": [
    "prediction=mlp.predict(X)"
   ]
  },
  {
   "cell_type": "code",
   "execution_count": 37,
   "metadata": {},
   "outputs": [
    {
     "data": {
      "text/plain": [
       "array([0., 0., 0., ..., 0., 0., 0.])"
      ]
     },
     "execution_count": 37,
     "metadata": {},
     "output_type": "execute_result"
    }
   ],
   "source": [
    "prediction"
   ]
  },
  {
   "cell_type": "code",
   "execution_count": null,
   "metadata": {},
   "outputs": [],
   "source": []
  }
 ],
 "metadata": {
  "kernelspec": {
   "display_name": "Python 3",
   "language": "python",
   "name": "python3"
  },
  "language_info": {
   "codemirror_mode": {
    "name": "ipython",
    "version": 3
   },
   "file_extension": ".py",
   "mimetype": "text/x-python",
   "name": "python",
   "nbconvert_exporter": "python",
   "pygments_lexer": "ipython3",
   "version": "3.7.4"
  }
 },
 "nbformat": 4,
 "nbformat_minor": 2
}
